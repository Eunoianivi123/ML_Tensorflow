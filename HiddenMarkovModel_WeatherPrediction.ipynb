{
  "nbformat": 4,
  "nbformat_minor": 0,
  "metadata": {
    "colab": {
      "provenance": [],
      "authorship_tag": "ABX9TyMMpMXllZL+aZdUPewv0Hky",
      "include_colab_link": true
    },
    "kernelspec": {
      "name": "python3",
      "display_name": "Python 3"
    },
    "language_info": {
      "name": "python"
    }
  },
  "cells": [
    {
      "cell_type": "markdown",
      "metadata": {
        "id": "view-in-github",
        "colab_type": "text"
      },
      "source": [
        "<a href=\"https://colab.research.google.com/github/Eunoianivi123/ML_Tensorflow/blob/main/HiddenMarkovModel_WeatherPrediction.ipynb\" target=\"_parent\"><img src=\"https://colab.research.google.com/assets/colab-badge.svg\" alt=\"Open In Colab\"/></a>"
      ]
    },
    {
      "cell_type": "code",
      "execution_count": null,
      "metadata": {
        "id": "oNiYg_TF02Gf"
      },
      "outputs": [],
      "source": [
        "#importing necessary modules\n",
        "import tensorflow_probability as tfp\n",
        "import tensorflow as tf"
      ]
    },
    {
      "cell_type": "code",
      "source": [
        "tfd = tfp.distributions\n",
        "initial_distribution = tfd.Categorical(probs=[0.8,0.2]) # 0.8 -> cold and 0.2 -> hot\n",
        "transition_distribution = tfd.Categorical(probs=[[0.7,0.3],[0.2,0.8]]) # a cold day had a chance of 30% followed by a hot day AND a hot day had a chance of 20% followed by cold day.\n",
        "observation_distribution = tfd.Normal(loc=[0.,15.], scale=[5.,10.]) # loc -> mean and scale -> standard deviation"
      ],
      "metadata": {
        "id": "snWyZk6r4zSr"
      },
      "execution_count": null,
      "outputs": []
    },
    {
      "cell_type": "markdown",
      "source": [
        "\n"
      ],
      "metadata": {
        "id": "S0BwZy8o1NzS"
      }
    },
    {
      "cell_type": "code",
      "source": [
        "#building the model\n",
        "model = tfd.HiddenMarkovModel(\n",
        "    initial_distribution=initial_distribution,\n",
        "    transition_distribution=transition_distribution,\n",
        "    observation_distribution=observation_distribution,\n",
        "    num_steps = 7 # here, it indicates the no of days for which the temperature has been displayed in the output.\n",
        ")"
      ],
      "metadata": {
        "id": "4W-GLLjx42Ve"
      },
      "execution_count": null,
      "outputs": []
    },
    {
      "cell_type": "code",
      "source": [
        "mean = model.mean()\n",
        "\n",
        "with tf.compat.v1.Session() as sess:\n",
        "  print(mean.numpy())"
      ],
      "metadata": {
        "colab": {
          "base_uri": "https://localhost:8080/"
        },
        "id": "lTYHwXqz5r2d",
        "outputId": "535f2fa7-2f0a-4b5f-c8b7-e8c248db6f1a"
      },
      "execution_count": null,
      "outputs": [
        {
          "output_type": "stream",
          "name": "stdout",
          "text": [
            "[3.        5.9999995 7.4999995 8.25      8.625001  8.812501  8.90625  ]\n"
          ]
        }
      ]
    }
  ]
}